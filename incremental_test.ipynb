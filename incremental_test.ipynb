from sklearn.linear_model import SGDRegressor
from sklearn.metrics import mean_squared_error
from sklearn.model_selection import train_test_split
import numpy as np

////////////////////////////////////////////////////////Generate Dummy Varibles
X = np.random.rand(100,1)
y = 2 * X.squeeze() + np.random.randn(100)
print("X:",X)
print("y:",y)

/////////////////////////////////////////////////////////Split the data

X_train, X_test, y_train, y_test = train_test_split(X, y, test_size=0.2, random_state=42)
print("X_train size:", X_train.size)
print("X_test size:", X_test.size)
print("y_train size:", y_train.size)
print("y_train size:", y_train.size)

model = SGDRegressor(learning_rate='constant',eta0 =0.01, random_state=42)
print("model:",model)

for i in range(X_train.shape[0]):
  print("X:",X_train[i])
  x = X_train[i].reshape(1,-1)
  print("Reshaped X", X)
  y_true = y_train[i]
  print("y_true:",y_true)

  model.partial_fit(x,[y_true])
  y_pred = model.predict(X_test)
  mse = mean_squared_error(y_test, y_pred)
  print(f"Iteration {i+1} - MSE: {mse:.4f}")
  print("====================================")

/////////////////////////////////////////////////////////////////

y_pred = model.predict(X_test)
mse = mean_squared_error(y_test, y_pred)
print(f"Final MSE: {mse:.4f}")
